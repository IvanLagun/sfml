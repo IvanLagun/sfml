{
 "cells": [
  {
   "cell_type": "code",
   "execution_count": 1,
   "metadata": {
    "collapsed": true
   },
   "outputs": [],
   "source": [
    "import pandas as pd"
   ]
  },
  {
   "cell_type": "code",
   "execution_count": 2,
   "metadata": {
    "collapsed": true
   },
   "outputs": [],
   "source": [
    "train = pd.read_csv('03_santander_train.csv', index_col='ID')"
   ]
  },
  {
   "cell_type": "code",
   "execution_count": 3,
   "metadata": {
    "scrolled": true
   },
   "outputs": [
    {
     "data": {
      "text/html": [
       "<div>\n",
       "<style>\n",
       "    .dataframe thead tr:only-child th {\n",
       "        text-align: right;\n",
       "    }\n",
       "\n",
       "    .dataframe thead th {\n",
       "        text-align: left;\n",
       "    }\n",
       "\n",
       "    .dataframe tbody tr th {\n",
       "        vertical-align: top;\n",
       "    }\n",
       "</style>\n",
       "<table border=\"1\" class=\"dataframe\">\n",
       "  <thead>\n",
       "    <tr style=\"text-align: right;\">\n",
       "      <th></th>\n",
       "      <th>var3</th>\n",
       "      <th>var15</th>\n",
       "      <th>imp_ent_var16_ult1</th>\n",
       "      <th>imp_op_var39_comer_ult1</th>\n",
       "      <th>imp_op_var39_comer_ult3</th>\n",
       "      <th>imp_op_var40_comer_ult1</th>\n",
       "      <th>imp_op_var40_comer_ult3</th>\n",
       "      <th>imp_op_var40_efect_ult1</th>\n",
       "      <th>imp_op_var40_efect_ult3</th>\n",
       "      <th>imp_op_var40_ult1</th>\n",
       "      <th>...</th>\n",
       "      <th>saldo_medio_var33_hace2</th>\n",
       "      <th>saldo_medio_var33_hace3</th>\n",
       "      <th>saldo_medio_var33_ult1</th>\n",
       "      <th>saldo_medio_var33_ult3</th>\n",
       "      <th>saldo_medio_var44_hace2</th>\n",
       "      <th>saldo_medio_var44_hace3</th>\n",
       "      <th>saldo_medio_var44_ult1</th>\n",
       "      <th>saldo_medio_var44_ult3</th>\n",
       "      <th>var38</th>\n",
       "      <th>TARGET</th>\n",
       "    </tr>\n",
       "    <tr>\n",
       "      <th>ID</th>\n",
       "      <th></th>\n",
       "      <th></th>\n",
       "      <th></th>\n",
       "      <th></th>\n",
       "      <th></th>\n",
       "      <th></th>\n",
       "      <th></th>\n",
       "      <th></th>\n",
       "      <th></th>\n",
       "      <th></th>\n",
       "      <th></th>\n",
       "      <th></th>\n",
       "      <th></th>\n",
       "      <th></th>\n",
       "      <th></th>\n",
       "      <th></th>\n",
       "      <th></th>\n",
       "      <th></th>\n",
       "      <th></th>\n",
       "      <th></th>\n",
       "      <th></th>\n",
       "    </tr>\n",
       "  </thead>\n",
       "  <tbody>\n",
       "    <tr>\n",
       "      <th>1</th>\n",
       "      <td>2</td>\n",
       "      <td>23</td>\n",
       "      <td>0.0</td>\n",
       "      <td>0.0</td>\n",
       "      <td>0.0</td>\n",
       "      <td>0.0</td>\n",
       "      <td>0.0</td>\n",
       "      <td>0.0</td>\n",
       "      <td>0.0</td>\n",
       "      <td>0.0</td>\n",
       "      <td>...</td>\n",
       "      <td>0.0</td>\n",
       "      <td>0.0</td>\n",
       "      <td>0.0</td>\n",
       "      <td>0.0</td>\n",
       "      <td>0.0</td>\n",
       "      <td>0.0</td>\n",
       "      <td>0.0</td>\n",
       "      <td>0.0</td>\n",
       "      <td>39205.170000</td>\n",
       "      <td>0</td>\n",
       "    </tr>\n",
       "    <tr>\n",
       "      <th>3</th>\n",
       "      <td>2</td>\n",
       "      <td>34</td>\n",
       "      <td>0.0</td>\n",
       "      <td>0.0</td>\n",
       "      <td>0.0</td>\n",
       "      <td>0.0</td>\n",
       "      <td>0.0</td>\n",
       "      <td>0.0</td>\n",
       "      <td>0.0</td>\n",
       "      <td>0.0</td>\n",
       "      <td>...</td>\n",
       "      <td>0.0</td>\n",
       "      <td>0.0</td>\n",
       "      <td>0.0</td>\n",
       "      <td>0.0</td>\n",
       "      <td>0.0</td>\n",
       "      <td>0.0</td>\n",
       "      <td>0.0</td>\n",
       "      <td>0.0</td>\n",
       "      <td>49278.030000</td>\n",
       "      <td>0</td>\n",
       "    </tr>\n",
       "    <tr>\n",
       "      <th>4</th>\n",
       "      <td>2</td>\n",
       "      <td>23</td>\n",
       "      <td>0.0</td>\n",
       "      <td>0.0</td>\n",
       "      <td>0.0</td>\n",
       "      <td>0.0</td>\n",
       "      <td>0.0</td>\n",
       "      <td>0.0</td>\n",
       "      <td>0.0</td>\n",
       "      <td>0.0</td>\n",
       "      <td>...</td>\n",
       "      <td>0.0</td>\n",
       "      <td>0.0</td>\n",
       "      <td>0.0</td>\n",
       "      <td>0.0</td>\n",
       "      <td>0.0</td>\n",
       "      <td>0.0</td>\n",
       "      <td>0.0</td>\n",
       "      <td>0.0</td>\n",
       "      <td>67333.770000</td>\n",
       "      <td>0</td>\n",
       "    </tr>\n",
       "    <tr>\n",
       "      <th>8</th>\n",
       "      <td>2</td>\n",
       "      <td>37</td>\n",
       "      <td>0.0</td>\n",
       "      <td>195.0</td>\n",
       "      <td>195.0</td>\n",
       "      <td>0.0</td>\n",
       "      <td>0.0</td>\n",
       "      <td>0.0</td>\n",
       "      <td>0.0</td>\n",
       "      <td>0.0</td>\n",
       "      <td>...</td>\n",
       "      <td>0.0</td>\n",
       "      <td>0.0</td>\n",
       "      <td>0.0</td>\n",
       "      <td>0.0</td>\n",
       "      <td>0.0</td>\n",
       "      <td>0.0</td>\n",
       "      <td>0.0</td>\n",
       "      <td>0.0</td>\n",
       "      <td>64007.970000</td>\n",
       "      <td>0</td>\n",
       "    </tr>\n",
       "    <tr>\n",
       "      <th>10</th>\n",
       "      <td>2</td>\n",
       "      <td>39</td>\n",
       "      <td>0.0</td>\n",
       "      <td>0.0</td>\n",
       "      <td>0.0</td>\n",
       "      <td>0.0</td>\n",
       "      <td>0.0</td>\n",
       "      <td>0.0</td>\n",
       "      <td>0.0</td>\n",
       "      <td>0.0</td>\n",
       "      <td>...</td>\n",
       "      <td>0.0</td>\n",
       "      <td>0.0</td>\n",
       "      <td>0.0</td>\n",
       "      <td>0.0</td>\n",
       "      <td>0.0</td>\n",
       "      <td>0.0</td>\n",
       "      <td>0.0</td>\n",
       "      <td>0.0</td>\n",
       "      <td>117310.979016</td>\n",
       "      <td>0</td>\n",
       "    </tr>\n",
       "  </tbody>\n",
       "</table>\n",
       "<p>5 rows × 370 columns</p>\n",
       "</div>"
      ],
      "text/plain": [
       "    var3  var15  imp_ent_var16_ult1  imp_op_var39_comer_ult1  \\\n",
       "ID                                                             \n",
       "1      2     23                 0.0                      0.0   \n",
       "3      2     34                 0.0                      0.0   \n",
       "4      2     23                 0.0                      0.0   \n",
       "8      2     37                 0.0                    195.0   \n",
       "10     2     39                 0.0                      0.0   \n",
       "\n",
       "    imp_op_var39_comer_ult3  imp_op_var40_comer_ult1  imp_op_var40_comer_ult3  \\\n",
       "ID                                                                              \n",
       "1                       0.0                      0.0                      0.0   \n",
       "3                       0.0                      0.0                      0.0   \n",
       "4                       0.0                      0.0                      0.0   \n",
       "8                     195.0                      0.0                      0.0   \n",
       "10                      0.0                      0.0                      0.0   \n",
       "\n",
       "    imp_op_var40_efect_ult1  imp_op_var40_efect_ult3  imp_op_var40_ult1  \\\n",
       "ID                                                                        \n",
       "1                       0.0                      0.0                0.0   \n",
       "3                       0.0                      0.0                0.0   \n",
       "4                       0.0                      0.0                0.0   \n",
       "8                       0.0                      0.0                0.0   \n",
       "10                      0.0                      0.0                0.0   \n",
       "\n",
       "     ...    saldo_medio_var33_hace2  saldo_medio_var33_hace3  \\\n",
       "ID   ...                                                       \n",
       "1    ...                        0.0                      0.0   \n",
       "3    ...                        0.0                      0.0   \n",
       "4    ...                        0.0                      0.0   \n",
       "8    ...                        0.0                      0.0   \n",
       "10   ...                        0.0                      0.0   \n",
       "\n",
       "    saldo_medio_var33_ult1  saldo_medio_var33_ult3  saldo_medio_var44_hace2  \\\n",
       "ID                                                                            \n",
       "1                      0.0                     0.0                      0.0   \n",
       "3                      0.0                     0.0                      0.0   \n",
       "4                      0.0                     0.0                      0.0   \n",
       "8                      0.0                     0.0                      0.0   \n",
       "10                     0.0                     0.0                      0.0   \n",
       "\n",
       "    saldo_medio_var44_hace3  saldo_medio_var44_ult1  saldo_medio_var44_ult3  \\\n",
       "ID                                                                            \n",
       "1                       0.0                     0.0                     0.0   \n",
       "3                       0.0                     0.0                     0.0   \n",
       "4                       0.0                     0.0                     0.0   \n",
       "8                       0.0                     0.0                     0.0   \n",
       "10                      0.0                     0.0                     0.0   \n",
       "\n",
       "            var38  TARGET  \n",
       "ID                         \n",
       "1    39205.170000       0  \n",
       "3    49278.030000       0  \n",
       "4    67333.770000       0  \n",
       "8    64007.970000       0  \n",
       "10  117310.979016       0  \n",
       "\n",
       "[5 rows x 370 columns]"
      ]
     },
     "execution_count": 3,
     "metadata": {},
     "output_type": "execute_result"
    }
   ],
   "source": [
    "train.head()"
   ]
  },
  {
   "cell_type": "code",
   "execution_count": 4,
   "metadata": {
    "collapsed": true
   },
   "outputs": [],
   "source": [
    "test = pd.read_csv('03_santander_test.csv', index_col='ID')"
   ]
  },
  {
   "cell_type": "code",
   "execution_count": 5,
   "metadata": {},
   "outputs": [
    {
     "data": {
      "text/html": [
       "<div>\n",
       "<style>\n",
       "    .dataframe thead tr:only-child th {\n",
       "        text-align: right;\n",
       "    }\n",
       "\n",
       "    .dataframe thead th {\n",
       "        text-align: left;\n",
       "    }\n",
       "\n",
       "    .dataframe tbody tr th {\n",
       "        vertical-align: top;\n",
       "    }\n",
       "</style>\n",
       "<table border=\"1\" class=\"dataframe\">\n",
       "  <thead>\n",
       "    <tr style=\"text-align: right;\">\n",
       "      <th></th>\n",
       "      <th>var3</th>\n",
       "      <th>var15</th>\n",
       "      <th>imp_ent_var16_ult1</th>\n",
       "      <th>imp_op_var39_comer_ult1</th>\n",
       "      <th>imp_op_var39_comer_ult3</th>\n",
       "      <th>imp_op_var40_comer_ult1</th>\n",
       "      <th>imp_op_var40_comer_ult3</th>\n",
       "      <th>imp_op_var40_efect_ult1</th>\n",
       "      <th>imp_op_var40_efect_ult3</th>\n",
       "      <th>imp_op_var40_ult1</th>\n",
       "      <th>...</th>\n",
       "      <th>saldo_medio_var29_ult3</th>\n",
       "      <th>saldo_medio_var33_hace2</th>\n",
       "      <th>saldo_medio_var33_hace3</th>\n",
       "      <th>saldo_medio_var33_ult1</th>\n",
       "      <th>saldo_medio_var33_ult3</th>\n",
       "      <th>saldo_medio_var44_hace2</th>\n",
       "      <th>saldo_medio_var44_hace3</th>\n",
       "      <th>saldo_medio_var44_ult1</th>\n",
       "      <th>saldo_medio_var44_ult3</th>\n",
       "      <th>var38</th>\n",
       "    </tr>\n",
       "    <tr>\n",
       "      <th>ID</th>\n",
       "      <th></th>\n",
       "      <th></th>\n",
       "      <th></th>\n",
       "      <th></th>\n",
       "      <th></th>\n",
       "      <th></th>\n",
       "      <th></th>\n",
       "      <th></th>\n",
       "      <th></th>\n",
       "      <th></th>\n",
       "      <th></th>\n",
       "      <th></th>\n",
       "      <th></th>\n",
       "      <th></th>\n",
       "      <th></th>\n",
       "      <th></th>\n",
       "      <th></th>\n",
       "      <th></th>\n",
       "      <th></th>\n",
       "      <th></th>\n",
       "      <th></th>\n",
       "    </tr>\n",
       "  </thead>\n",
       "  <tbody>\n",
       "    <tr>\n",
       "      <th>2</th>\n",
       "      <td>2</td>\n",
       "      <td>32</td>\n",
       "      <td>0.0</td>\n",
       "      <td>0.0</td>\n",
       "      <td>0.0</td>\n",
       "      <td>0.0</td>\n",
       "      <td>0.0</td>\n",
       "      <td>0.0</td>\n",
       "      <td>0.0</td>\n",
       "      <td>0.0</td>\n",
       "      <td>...</td>\n",
       "      <td>0.0</td>\n",
       "      <td>0.0</td>\n",
       "      <td>0.0</td>\n",
       "      <td>0.0</td>\n",
       "      <td>0.0</td>\n",
       "      <td>0.0</td>\n",
       "      <td>0.0</td>\n",
       "      <td>0.0</td>\n",
       "      <td>0.0</td>\n",
       "      <td>40532.10</td>\n",
       "    </tr>\n",
       "    <tr>\n",
       "      <th>5</th>\n",
       "      <td>2</td>\n",
       "      <td>35</td>\n",
       "      <td>0.0</td>\n",
       "      <td>0.0</td>\n",
       "      <td>0.0</td>\n",
       "      <td>0.0</td>\n",
       "      <td>0.0</td>\n",
       "      <td>0.0</td>\n",
       "      <td>0.0</td>\n",
       "      <td>0.0</td>\n",
       "      <td>...</td>\n",
       "      <td>0.0</td>\n",
       "      <td>0.0</td>\n",
       "      <td>0.0</td>\n",
       "      <td>0.0</td>\n",
       "      <td>0.0</td>\n",
       "      <td>0.0</td>\n",
       "      <td>0.0</td>\n",
       "      <td>0.0</td>\n",
       "      <td>0.0</td>\n",
       "      <td>45486.72</td>\n",
       "    </tr>\n",
       "    <tr>\n",
       "      <th>6</th>\n",
       "      <td>2</td>\n",
       "      <td>23</td>\n",
       "      <td>0.0</td>\n",
       "      <td>0.0</td>\n",
       "      <td>0.0</td>\n",
       "      <td>0.0</td>\n",
       "      <td>0.0</td>\n",
       "      <td>0.0</td>\n",
       "      <td>0.0</td>\n",
       "      <td>0.0</td>\n",
       "      <td>...</td>\n",
       "      <td>0.0</td>\n",
       "      <td>0.0</td>\n",
       "      <td>0.0</td>\n",
       "      <td>0.0</td>\n",
       "      <td>0.0</td>\n",
       "      <td>0.0</td>\n",
       "      <td>0.0</td>\n",
       "      <td>0.0</td>\n",
       "      <td>0.0</td>\n",
       "      <td>46993.95</td>\n",
       "    </tr>\n",
       "    <tr>\n",
       "      <th>7</th>\n",
       "      <td>2</td>\n",
       "      <td>24</td>\n",
       "      <td>0.0</td>\n",
       "      <td>0.0</td>\n",
       "      <td>0.0</td>\n",
       "      <td>0.0</td>\n",
       "      <td>0.0</td>\n",
       "      <td>0.0</td>\n",
       "      <td>0.0</td>\n",
       "      <td>0.0</td>\n",
       "      <td>...</td>\n",
       "      <td>0.0</td>\n",
       "      <td>0.0</td>\n",
       "      <td>0.0</td>\n",
       "      <td>0.0</td>\n",
       "      <td>0.0</td>\n",
       "      <td>0.0</td>\n",
       "      <td>0.0</td>\n",
       "      <td>0.0</td>\n",
       "      <td>0.0</td>\n",
       "      <td>187898.61</td>\n",
       "    </tr>\n",
       "    <tr>\n",
       "      <th>9</th>\n",
       "      <td>2</td>\n",
       "      <td>23</td>\n",
       "      <td>0.0</td>\n",
       "      <td>0.0</td>\n",
       "      <td>0.0</td>\n",
       "      <td>0.0</td>\n",
       "      <td>0.0</td>\n",
       "      <td>0.0</td>\n",
       "      <td>0.0</td>\n",
       "      <td>0.0</td>\n",
       "      <td>...</td>\n",
       "      <td>0.0</td>\n",
       "      <td>0.0</td>\n",
       "      <td>0.0</td>\n",
       "      <td>0.0</td>\n",
       "      <td>0.0</td>\n",
       "      <td>0.0</td>\n",
       "      <td>0.0</td>\n",
       "      <td>0.0</td>\n",
       "      <td>0.0</td>\n",
       "      <td>73649.73</td>\n",
       "    </tr>\n",
       "  </tbody>\n",
       "</table>\n",
       "<p>5 rows × 369 columns</p>\n",
       "</div>"
      ],
      "text/plain": [
       "    var3  var15  imp_ent_var16_ult1  imp_op_var39_comer_ult1  \\\n",
       "ID                                                             \n",
       "2      2     32                 0.0                      0.0   \n",
       "5      2     35                 0.0                      0.0   \n",
       "6      2     23                 0.0                      0.0   \n",
       "7      2     24                 0.0                      0.0   \n",
       "9      2     23                 0.0                      0.0   \n",
       "\n",
       "    imp_op_var39_comer_ult3  imp_op_var40_comer_ult1  imp_op_var40_comer_ult3  \\\n",
       "ID                                                                              \n",
       "2                       0.0                      0.0                      0.0   \n",
       "5                       0.0                      0.0                      0.0   \n",
       "6                       0.0                      0.0                      0.0   \n",
       "7                       0.0                      0.0                      0.0   \n",
       "9                       0.0                      0.0                      0.0   \n",
       "\n",
       "    imp_op_var40_efect_ult1  imp_op_var40_efect_ult3  imp_op_var40_ult1  \\\n",
       "ID                                                                        \n",
       "2                       0.0                      0.0                0.0   \n",
       "5                       0.0                      0.0                0.0   \n",
       "6                       0.0                      0.0                0.0   \n",
       "7                       0.0                      0.0                0.0   \n",
       "9                       0.0                      0.0                0.0   \n",
       "\n",
       "      ...      saldo_medio_var29_ult3  saldo_medio_var33_hace2  \\\n",
       "ID    ...                                                        \n",
       "2     ...                         0.0                      0.0   \n",
       "5     ...                         0.0                      0.0   \n",
       "6     ...                         0.0                      0.0   \n",
       "7     ...                         0.0                      0.0   \n",
       "9     ...                         0.0                      0.0   \n",
       "\n",
       "    saldo_medio_var33_hace3  saldo_medio_var33_ult1  saldo_medio_var33_ult3  \\\n",
       "ID                                                                            \n",
       "2                       0.0                     0.0                     0.0   \n",
       "5                       0.0                     0.0                     0.0   \n",
       "6                       0.0                     0.0                     0.0   \n",
       "7                       0.0                     0.0                     0.0   \n",
       "9                       0.0                     0.0                     0.0   \n",
       "\n",
       "    saldo_medio_var44_hace2  saldo_medio_var44_hace3  saldo_medio_var44_ult1  \\\n",
       "ID                                                                             \n",
       "2                       0.0                      0.0                     0.0   \n",
       "5                       0.0                      0.0                     0.0   \n",
       "6                       0.0                      0.0                     0.0   \n",
       "7                       0.0                      0.0                     0.0   \n",
       "9                       0.0                      0.0                     0.0   \n",
       "\n",
       "    saldo_medio_var44_ult3      var38  \n",
       "ID                                     \n",
       "2                      0.0   40532.10  \n",
       "5                      0.0   45486.72  \n",
       "6                      0.0   46993.95  \n",
       "7                      0.0  187898.61  \n",
       "9                      0.0   73649.73  \n",
       "\n",
       "[5 rows x 369 columns]"
      ]
     },
     "execution_count": 5,
     "metadata": {},
     "output_type": "execute_result"
    }
   ],
   "source": [
    "test.head()"
   ]
  },
  {
   "cell_type": "code",
   "execution_count": 6,
   "metadata": {
    "collapsed": true
   },
   "outputs": [],
   "source": [
    "y = list(train['TARGET'])"
   ]
  },
  {
   "cell_type": "code",
   "execution_count": 7,
   "metadata": {
    "collapsed": true
   },
   "outputs": [],
   "source": [
    "train = train.drop('TARGET', axis=1)"
   ]
  },
  {
   "cell_type": "code",
   "execution_count": 8,
   "metadata": {},
   "outputs": [
    {
     "name": "stdout",
     "output_type": "stream",
     "text": [
      "<class 'pandas.core.frame.DataFrame'>\n",
      "Int64Index: 76020 entries, 1 to 151838\n",
      "Columns: 369 entries, var3 to var38\n",
      "dtypes: float64(111), int64(258)\n",
      "memory usage: 214.6 MB\n"
     ]
    }
   ],
   "source": [
    "train.info()"
   ]
  },
  {
   "cell_type": "code",
   "execution_count": 9,
   "metadata": {},
   "outputs": [
    {
     "name": "stdout",
     "output_type": "stream",
     "text": [
      "<class 'pandas.core.frame.DataFrame'>\n",
      "Int64Index: 76020 entries, 1 to 151838\n",
      "Data columns (total 369 columns):\n",
      "var3                             76020 non-null int64\n",
      "var15                            76020 non-null int64\n",
      "imp_ent_var16_ult1               76020 non-null float64\n",
      "imp_op_var39_comer_ult1          76020 non-null float64\n",
      "imp_op_var39_comer_ult3          76020 non-null float64\n",
      "imp_op_var40_comer_ult1          76020 non-null float64\n",
      "imp_op_var40_comer_ult3          76020 non-null float64\n",
      "imp_op_var40_efect_ult1          76020 non-null float64\n",
      "imp_op_var40_efect_ult3          76020 non-null float64\n",
      "imp_op_var40_ult1                76020 non-null float64\n",
      "imp_op_var41_comer_ult1          76020 non-null float64\n",
      "imp_op_var41_comer_ult3          76020 non-null float64\n",
      "imp_op_var41_efect_ult1          76020 non-null float64\n",
      "imp_op_var41_efect_ult3          76020 non-null float64\n",
      "imp_op_var41_ult1                76020 non-null float64\n",
      "imp_op_var39_efect_ult1          76020 non-null float64\n",
      "imp_op_var39_efect_ult3          76020 non-null float64\n",
      "imp_op_var39_ult1                76020 non-null float64\n",
      "imp_sal_var16_ult1               76020 non-null float64\n",
      "ind_var1_0                       76020 non-null int64\n",
      "ind_var1                         76020 non-null int64\n",
      "ind_var2_0                       76020 non-null int64\n",
      "ind_var2                         76020 non-null int64\n",
      "ind_var5_0                       76020 non-null int64\n",
      "ind_var5                         76020 non-null int64\n",
      "ind_var6_0                       76020 non-null int64\n",
      "ind_var6                         76020 non-null int64\n",
      "ind_var8_0                       76020 non-null int64\n",
      "ind_var8                         76020 non-null int64\n",
      "ind_var12_0                      76020 non-null int64\n",
      "ind_var12                        76020 non-null int64\n",
      "ind_var13_0                      76020 non-null int64\n",
      "ind_var13_corto_0                76020 non-null int64\n",
      "ind_var13_corto                  76020 non-null int64\n",
      "ind_var13_largo_0                76020 non-null int64\n",
      "ind_var13_largo                  76020 non-null int64\n",
      "ind_var13_medio_0                76020 non-null int64\n",
      "ind_var13_medio                  76020 non-null int64\n",
      "ind_var13                        76020 non-null int64\n",
      "ind_var14_0                      76020 non-null int64\n",
      "ind_var14                        76020 non-null int64\n",
      "ind_var17_0                      76020 non-null int64\n",
      "ind_var17                        76020 non-null int64\n",
      "ind_var18_0                      76020 non-null int64\n",
      "ind_var18                        76020 non-null int64\n",
      "ind_var19                        76020 non-null int64\n",
      "ind_var20_0                      76020 non-null int64\n",
      "ind_var20                        76020 non-null int64\n",
      "ind_var24_0                      76020 non-null int64\n",
      "ind_var24                        76020 non-null int64\n",
      "ind_var25_cte                    76020 non-null int64\n",
      "ind_var26_0                      76020 non-null int64\n",
      "ind_var26_cte                    76020 non-null int64\n",
      "ind_var26                        76020 non-null int64\n",
      "ind_var25_0                      76020 non-null int64\n",
      "ind_var25                        76020 non-null int64\n",
      "ind_var27_0                      76020 non-null int64\n",
      "ind_var28_0                      76020 non-null int64\n",
      "ind_var28                        76020 non-null int64\n",
      "ind_var27                        76020 non-null int64\n",
      "ind_var29_0                      76020 non-null int64\n",
      "ind_var29                        76020 non-null int64\n",
      "ind_var30_0                      76020 non-null int64\n",
      "ind_var30                        76020 non-null int64\n",
      "ind_var31_0                      76020 non-null int64\n",
      "ind_var31                        76020 non-null int64\n",
      "ind_var32_cte                    76020 non-null int64\n",
      "ind_var32_0                      76020 non-null int64\n",
      "ind_var32                        76020 non-null int64\n",
      "ind_var33_0                      76020 non-null int64\n",
      "ind_var33                        76020 non-null int64\n",
      "ind_var34_0                      76020 non-null int64\n",
      "ind_var34                        76020 non-null int64\n",
      "ind_var37_cte                    76020 non-null int64\n",
      "ind_var37_0                      76020 non-null int64\n",
      "ind_var37                        76020 non-null int64\n",
      "ind_var39_0                      76020 non-null int64\n",
      "ind_var40_0                      76020 non-null int64\n",
      "ind_var40                        76020 non-null int64\n",
      "ind_var41_0                      76020 non-null int64\n",
      "ind_var41                        76020 non-null int64\n",
      "ind_var39                        76020 non-null int64\n",
      "ind_var44_0                      76020 non-null int64\n",
      "ind_var44                        76020 non-null int64\n",
      "ind_var46_0                      76020 non-null int64\n",
      "ind_var46                        76020 non-null int64\n",
      "num_var1_0                       76020 non-null int64\n",
      "num_var1                         76020 non-null int64\n",
      "num_var4                         76020 non-null int64\n",
      "num_var5_0                       76020 non-null int64\n",
      "num_var5                         76020 non-null int64\n",
      "num_var6_0                       76020 non-null int64\n",
      "num_var6                         76020 non-null int64\n",
      "num_var8_0                       76020 non-null int64\n",
      "num_var8                         76020 non-null int64\n",
      "num_var12_0                      76020 non-null int64\n",
      "num_var12                        76020 non-null int64\n",
      "num_var13_0                      76020 non-null int64\n",
      "num_var13_corto_0                76020 non-null int64\n",
      "num_var13_corto                  76020 non-null int64\n",
      "num_var13_largo_0                76020 non-null int64\n",
      "num_var13_largo                  76020 non-null int64\n",
      "num_var13_medio_0                76020 non-null int64\n",
      "num_var13_medio                  76020 non-null int64\n",
      "num_var13                        76020 non-null int64\n",
      "num_var14_0                      76020 non-null int64\n",
      "num_var14                        76020 non-null int64\n",
      "num_var17_0                      76020 non-null int64\n",
      "num_var17                        76020 non-null int64\n",
      "num_var18_0                      76020 non-null int64\n",
      "num_var18                        76020 non-null int64\n",
      "num_var20_0                      76020 non-null int64\n",
      "num_var20                        76020 non-null int64\n",
      "num_var24_0                      76020 non-null int64\n",
      "num_var24                        76020 non-null int64\n",
      "num_var26_0                      76020 non-null int64\n",
      "num_var26                        76020 non-null int64\n",
      "num_var25_0                      76020 non-null int64\n",
      "num_var25                        76020 non-null int64\n",
      "num_op_var40_hace2               76020 non-null int64\n",
      "num_op_var40_hace3               76020 non-null int64\n",
      "num_op_var40_ult1                76020 non-null int64\n",
      "num_op_var40_ult3                76020 non-null int64\n",
      "num_op_var41_hace2               76020 non-null int64\n",
      "num_op_var41_hace3               76020 non-null int64\n",
      "num_op_var41_ult1                76020 non-null int64\n",
      "num_op_var41_ult3                76020 non-null int64\n",
      "num_op_var39_hace2               76020 non-null int64\n",
      "num_op_var39_hace3               76020 non-null int64\n",
      "num_op_var39_ult1                76020 non-null int64\n",
      "num_op_var39_ult3                76020 non-null int64\n",
      "num_var27_0                      76020 non-null int64\n",
      "num_var28_0                      76020 non-null int64\n",
      "num_var28                        76020 non-null int64\n",
      "num_var27                        76020 non-null int64\n",
      "num_var29_0                      76020 non-null int64\n",
      "num_var29                        76020 non-null int64\n",
      "num_var30_0                      76020 non-null int64\n",
      "num_var30                        76020 non-null int64\n",
      "num_var31_0                      76020 non-null int64\n",
      "num_var31                        76020 non-null int64\n",
      "num_var32_0                      76020 non-null int64\n",
      "num_var32                        76020 non-null int64\n",
      "num_var33_0                      76020 non-null int64\n",
      "num_var33                        76020 non-null int64\n",
      "num_var34_0                      76020 non-null int64\n",
      "num_var34                        76020 non-null int64\n",
      "num_var35                        76020 non-null int64\n",
      "num_var37_med_ult2               76020 non-null int64\n",
      "num_var37_0                      76020 non-null int64\n",
      "num_var37                        76020 non-null int64\n",
      "num_var39_0                      76020 non-null int64\n",
      "num_var40_0                      76020 non-null int64\n",
      "num_var40                        76020 non-null int64\n",
      "num_var41_0                      76020 non-null int64\n",
      "num_var41                        76020 non-null int64\n",
      "num_var39                        76020 non-null int64\n",
      "num_var42_0                      76020 non-null int64\n",
      "num_var42                        76020 non-null int64\n",
      "num_var44_0                      76020 non-null int64\n",
      "num_var44                        76020 non-null int64\n",
      "num_var46_0                      76020 non-null int64\n",
      "num_var46                        76020 non-null int64\n",
      "saldo_var1                       76020 non-null float64\n",
      "saldo_var5                       76020 non-null float64\n",
      "saldo_var6                       76020 non-null float64\n",
      "saldo_var8                       76020 non-null float64\n",
      "saldo_var12                      76020 non-null float64\n",
      "saldo_var13_corto                76020 non-null float64\n",
      "saldo_var13_largo                76020 non-null float64\n",
      "saldo_var13_medio                76020 non-null int64\n",
      "saldo_var13                      76020 non-null float64\n",
      "saldo_var14                      76020 non-null float64\n",
      "saldo_var17                      76020 non-null float64\n",
      "saldo_var18                      76020 non-null int64\n",
      "saldo_var20                      76020 non-null float64\n",
      "saldo_var24                      76020 non-null float64\n",
      "saldo_var26                      76020 non-null float64\n",
      "saldo_var25                      76020 non-null float64\n",
      "saldo_var28                      76020 non-null int64\n",
      "saldo_var27                      76020 non-null int64\n",
      "saldo_var29                      76020 non-null float64\n",
      "saldo_var30                      76020 non-null float64\n",
      "saldo_var31                      76020 non-null float64\n",
      "saldo_var32                      76020 non-null float64\n",
      "saldo_var33                      76020 non-null float64\n",
      "saldo_var34                      76020 non-null int64\n",
      "saldo_var37                      76020 non-null float64\n",
      "saldo_var40                      76020 non-null float64\n",
      "saldo_var41                      76020 non-null int64\n",
      "saldo_var42                      76020 non-null float64\n",
      "saldo_var44                      76020 non-null float64\n",
      "saldo_var46                      76020 non-null int64\n",
      "var36                            76020 non-null int64\n",
      "delta_imp_amort_var18_1y3        76020 non-null int64\n",
      "delta_imp_amort_var34_1y3        76020 non-null int64\n",
      "delta_imp_aport_var13_1y3        76020 non-null float64\n",
      "delta_imp_aport_var17_1y3        76020 non-null float64\n",
      "delta_imp_aport_var33_1y3        76020 non-null float64\n",
      "delta_imp_compra_var44_1y3       76020 non-null float64\n",
      "delta_imp_reemb_var13_1y3        76020 non-null int64\n",
      "delta_imp_reemb_var17_1y3        76020 non-null int64\n",
      "delta_imp_reemb_var33_1y3        76020 non-null int64\n",
      "delta_imp_trasp_var17_in_1y3     76020 non-null int64\n",
      "delta_imp_trasp_var17_out_1y3    76020 non-null int64\n",
      "delta_imp_trasp_var33_in_1y3     76020 non-null int64\n",
      "delta_imp_trasp_var33_out_1y3    76020 non-null int64\n",
      "delta_imp_venta_var44_1y3        76020 non-null float64\n",
      "delta_num_aport_var13_1y3        76020 non-null float64\n",
      "delta_num_aport_var17_1y3        76020 non-null float64\n",
      "delta_num_aport_var33_1y3        76020 non-null float64\n",
      "delta_num_compra_var44_1y3       76020 non-null float64\n",
      "delta_num_reemb_var13_1y3        76020 non-null int64\n",
      "delta_num_reemb_var17_1y3        76020 non-null int64\n",
      "delta_num_reemb_var33_1y3        76020 non-null int64\n",
      "delta_num_trasp_var17_in_1y3     76020 non-null int64\n",
      "delta_num_trasp_var17_out_1y3    76020 non-null int64\n",
      "delta_num_trasp_var33_in_1y3     76020 non-null int64\n",
      "delta_num_trasp_var33_out_1y3    76020 non-null int64\n",
      "delta_num_venta_var44_1y3        76020 non-null float64\n",
      "imp_amort_var18_hace3            76020 non-null int64\n",
      "imp_amort_var18_ult1             76020 non-null float64\n",
      "imp_amort_var34_hace3            76020 non-null int64\n",
      "imp_amort_var34_ult1             76020 non-null float64\n",
      "imp_aport_var13_hace3            76020 non-null float64\n",
      "imp_aport_var13_ult1             76020 non-null float64\n",
      "imp_aport_var17_hace3            76020 non-null float64\n",
      "imp_aport_var17_ult1             76020 non-null float64\n",
      "imp_aport_var33_hace3            76020 non-null int64\n",
      "imp_aport_var33_ult1             76020 non-null int64\n",
      "imp_var7_emit_ult1               76020 non-null float64\n",
      "imp_var7_recib_ult1              76020 non-null float64\n",
      "imp_compra_var44_hace3           76020 non-null float64\n",
      "imp_compra_var44_ult1            76020 non-null float64\n",
      "imp_reemb_var13_hace3            76020 non-null int64\n",
      "imp_reemb_var13_ult1             76020 non-null float64\n",
      "imp_reemb_var17_hace3            76020 non-null float64\n",
      "imp_reemb_var17_ult1             76020 non-null float64\n",
      "imp_reemb_var33_hace3            76020 non-null int64\n",
      "imp_reemb_var33_ult1             76020 non-null int64\n",
      "imp_var43_emit_ult1              76020 non-null float64\n",
      "imp_trans_var37_ult1             76020 non-null float64\n",
      "imp_trasp_var17_in_hace3         76020 non-null float64\n",
      "imp_trasp_var17_in_ult1          76020 non-null float64\n",
      "imp_trasp_var17_out_hace3        76020 non-null int64\n",
      "imp_trasp_var17_out_ult1         76020 non-null float64\n",
      "imp_trasp_var33_in_hace3         76020 non-null float64\n",
      "imp_trasp_var33_in_ult1          76020 non-null float64\n",
      "imp_trasp_var33_out_hace3        76020 non-null int64\n",
      "imp_trasp_var33_out_ult1         76020 non-null int64\n",
      "imp_venta_var44_hace3            76020 non-null float64\n",
      "imp_venta_var44_ult1             76020 non-null float64\n",
      "ind_var7_emit_ult1               76020 non-null int64\n",
      "ind_var7_recib_ult1              76020 non-null int64\n",
      "ind_var10_ult1                   76020 non-null int64\n",
      "ind_var10cte_ult1                76020 non-null int64\n",
      "ind_var9_cte_ult1                76020 non-null int64\n",
      "ind_var9_ult1                    76020 non-null int64\n",
      "ind_var43_emit_ult1              76020 non-null int64\n",
      "ind_var43_recib_ult1             76020 non-null int64\n",
      "var21                            76020 non-null int64\n",
      "num_var2_0_ult1                  76020 non-null int64\n",
      "num_var2_ult1                    76020 non-null int64\n",
      "num_aport_var13_hace3            76020 non-null int64\n",
      "num_aport_var13_ult1             76020 non-null int64\n",
      "num_aport_var17_hace3            76020 non-null int64\n",
      "num_aport_var17_ult1             76020 non-null int64\n",
      "num_aport_var33_hace3            76020 non-null int64\n",
      "num_aport_var33_ult1             76020 non-null int64\n",
      "num_var7_emit_ult1               76020 non-null int64\n",
      "num_var7_recib_ult1              76020 non-null int64\n",
      "num_compra_var44_hace3           76020 non-null int64\n",
      "num_compra_var44_ult1            76020 non-null int64\n",
      "num_ent_var16_ult1               76020 non-null int64\n",
      "num_var22_hace2                  76020 non-null int64\n",
      "num_var22_hace3                  76020 non-null int64\n",
      "num_var22_ult1                   76020 non-null int64\n",
      "num_var22_ult3                   76020 non-null int64\n",
      "num_med_var22_ult3               76020 non-null int64\n",
      "num_med_var45_ult3               76020 non-null int64\n",
      "num_meses_var5_ult3              76020 non-null int64\n",
      "num_meses_var8_ult3              76020 non-null int64\n",
      "num_meses_var12_ult3             76020 non-null int64\n",
      "num_meses_var13_corto_ult3       76020 non-null int64\n",
      "num_meses_var13_largo_ult3       76020 non-null int64\n",
      "num_meses_var13_medio_ult3       76020 non-null int64\n",
      "num_meses_var17_ult3             76020 non-null int64\n",
      "num_meses_var29_ult3             76020 non-null int64\n",
      "num_meses_var33_ult3             76020 non-null int64\n",
      "num_meses_var39_vig_ult3         76020 non-null int64\n",
      "num_meses_var44_ult3             76020 non-null int64\n",
      "num_op_var39_comer_ult1          76020 non-null int64\n",
      "num_op_var39_comer_ult3          76020 non-null int64\n",
      "num_op_var40_comer_ult1          76020 non-null int64\n",
      "num_op_var40_comer_ult3          76020 non-null int64\n",
      "num_op_var40_efect_ult1          76020 non-null int64\n",
      "num_op_var40_efect_ult3          76020 non-null int64\n",
      "num_op_var41_comer_ult1          76020 non-null int64\n",
      "num_op_var41_comer_ult3          76020 non-null int64\n",
      "num_op_var41_efect_ult1          76020 non-null int64\n",
      "num_op_var41_efect_ult3          76020 non-null int64\n",
      "num_op_var39_efect_ult1          76020 non-null int64\n",
      "num_op_var39_efect_ult3          76020 non-null int64\n",
      "num_reemb_var13_hace3            76020 non-null int64\n",
      "num_reemb_var13_ult1             76020 non-null int64\n",
      "num_reemb_var17_hace3            76020 non-null int64\n",
      "num_reemb_var17_ult1             76020 non-null int64\n",
      "num_reemb_var33_hace3            76020 non-null int64\n",
      "num_reemb_var33_ult1             76020 non-null int64\n",
      "num_sal_var16_ult1               76020 non-null int64\n",
      "num_var43_emit_ult1              76020 non-null int64\n",
      "num_var43_recib_ult1             76020 non-null int64\n",
      "num_trasp_var11_ult1             76020 non-null int64\n",
      "num_trasp_var17_in_hace3         76020 non-null int64\n",
      "num_trasp_var17_in_ult1          76020 non-null int64\n",
      "num_trasp_var17_out_hace3        76020 non-null int64\n",
      "num_trasp_var17_out_ult1         76020 non-null int64\n",
      "num_trasp_var33_in_hace3         76020 non-null int64\n",
      "num_trasp_var33_in_ult1          76020 non-null int64\n",
      "num_trasp_var33_out_hace3        76020 non-null int64\n",
      "num_trasp_var33_out_ult1         76020 non-null int64\n",
      "num_venta_var44_hace3            76020 non-null int64\n",
      "num_venta_var44_ult1             76020 non-null int64\n",
      "num_var45_hace2                  76020 non-null int64\n",
      "num_var45_hace3                  76020 non-null int64\n",
      "num_var45_ult1                   76020 non-null int64\n",
      "num_var45_ult3                   76020 non-null int64\n",
      "saldo_var2_ult1                  76020 non-null int64\n",
      "saldo_medio_var5_hace2           76020 non-null float64\n",
      "saldo_medio_var5_hace3           76020 non-null float64\n",
      "saldo_medio_var5_ult1            76020 non-null float64\n",
      "saldo_medio_var5_ult3            76020 non-null float64\n",
      "saldo_medio_var8_hace2           76020 non-null float64\n",
      "saldo_medio_var8_hace3           76020 non-null float64\n",
      "saldo_medio_var8_ult1            76020 non-null float64\n",
      "saldo_medio_var8_ult3            76020 non-null float64\n",
      "saldo_medio_var12_hace2          76020 non-null float64\n",
      "saldo_medio_var12_hace3          76020 non-null float64\n",
      "saldo_medio_var12_ult1           76020 non-null float64\n",
      "saldo_medio_var12_ult3           76020 non-null float64\n",
      "saldo_medio_var13_corto_hace2    76020 non-null float64\n",
      "saldo_medio_var13_corto_hace3    76020 non-null float64\n",
      "saldo_medio_var13_corto_ult1     76020 non-null float64\n",
      "saldo_medio_var13_corto_ult3     76020 non-null float64\n",
      "saldo_medio_var13_largo_hace2    76020 non-null float64\n",
      "saldo_medio_var13_largo_hace3    76020 non-null float64\n",
      "saldo_medio_var13_largo_ult1     76020 non-null float64\n",
      "saldo_medio_var13_largo_ult3     76020 non-null float64\n",
      "saldo_medio_var13_medio_hace2    76020 non-null float64\n",
      "saldo_medio_var13_medio_hace3    76020 non-null int64\n",
      "saldo_medio_var13_medio_ult1     76020 non-null int64\n",
      "saldo_medio_var13_medio_ult3     76020 non-null float64\n",
      "saldo_medio_var17_hace2          76020 non-null float64\n",
      "saldo_medio_var17_hace3          76020 non-null float64\n",
      "saldo_medio_var17_ult1           76020 non-null float64\n",
      "saldo_medio_var17_ult3           76020 non-null float64\n",
      "saldo_medio_var29_hace2          76020 non-null float64\n",
      "saldo_medio_var29_hace3          76020 non-null float64\n",
      "saldo_medio_var29_ult1           76020 non-null float64\n",
      "saldo_medio_var29_ult3           76020 non-null float64\n",
      "saldo_medio_var33_hace2          76020 non-null float64\n",
      "saldo_medio_var33_hace3          76020 non-null float64\n",
      "saldo_medio_var33_ult1           76020 non-null float64\n",
      "saldo_medio_var33_ult3           76020 non-null float64\n",
      "saldo_medio_var44_hace2          76020 non-null float64\n",
      "saldo_medio_var44_hace3          76020 non-null float64\n",
      "saldo_medio_var44_ult1           76020 non-null float64\n",
      "saldo_medio_var44_ult3           76020 non-null float64\n",
      "var38                            76020 non-null float64\n",
      "dtypes: float64(111), int64(258)\n",
      "memory usage: 214.6 MB\n"
     ]
    }
   ],
   "source": [
    "train.info(verbose=True, memory_usage=True, null_counts=True)"
   ]
  },
  {
   "cell_type": "code",
   "execution_count": 10,
   "metadata": {
    "collapsed": true
   },
   "outputs": [],
   "source": [
    "from sklearn.model_selection import train_test_split"
   ]
  },
  {
   "cell_type": "code",
   "execution_count": 11,
   "metadata": {
    "collapsed": true
   },
   "outputs": [],
   "source": [
    "X_train, X_test, y_train, y_test = train_test_split(train, y, test_size=0.33, random_state=42)"
   ]
  },
  {
   "cell_type": "code",
   "execution_count": 12,
   "metadata": {
    "collapsed": true
   },
   "outputs": [],
   "source": [
    "from sklearn.tree import DecisionTreeClassifier"
   ]
  },
  {
   "cell_type": "code",
   "execution_count": 13,
   "metadata": {},
   "outputs": [
    {
     "data": {
      "text/plain": [
       "DecisionTreeClassifier(class_weight=None, criterion='gini', max_depth=5,\n",
       "            max_features=None, max_leaf_nodes=None,\n",
       "            min_impurity_decrease=0.0, min_impurity_split=None,\n",
       "            min_samples_leaf=1, min_samples_split=2,\n",
       "            min_weight_fraction_leaf=0.0, presort=False, random_state=None,\n",
       "            splitter='best')"
      ]
     },
     "execution_count": 13,
     "metadata": {},
     "output_type": "execute_result"
    }
   ],
   "source": [
    "dtc = DecisionTreeClassifier(max_depth=5)\n",
    "dtc.fit(X_train, y_train)"
   ]
  },
  {
   "cell_type": "code",
   "execution_count": 14,
   "metadata": {},
   "outputs": [
    {
     "data": {
      "application/vnd.jupyter.widget-view+json": {
       "model_id": "0cf2de9405404edf8f7c26e43c887cf4",
       "version_major": 2,
       "version_minor": 0
      },
      "text/plain": [
       "A Jupyter Widget"
      ]
     },
     "metadata": {},
     "output_type": "display_data"
    }
   ],
   "source": [
    "from ipywidgets import Image\n",
    "from io import StringIO\n",
    "import pydotplus\n",
    "from sklearn.tree import export_graphviz\n",
    "\n",
    "dot_data = StringIO()\n",
    "export_graphviz(dtc, feature_names=train.columns, out_file=dot_data, filled=True)\n",
    "graph = pydotplus.graph_from_dot_data(dot_data.getvalue())  \n",
    "Image(value=graph.create_png())"
   ]
  },
  {
   "cell_type": "code",
   "execution_count": 15,
   "metadata": {
    "collapsed": true
   },
   "outputs": [],
   "source": [
    "from sklearn.neighbors import KNeighborsClassifier\n",
    "from sklearn.linear_model import LogisticRegression"
   ]
  },
  {
   "cell_type": "code",
   "execution_count": 16,
   "metadata": {
    "collapsed": true
   },
   "outputs": [],
   "source": [
    "from sklearn.metrics import roc_auc_score"
   ]
  },
  {
   "cell_type": "code",
   "execution_count": 17,
   "metadata": {
    "collapsed": true
   },
   "outputs": [],
   "source": [
    "%matplotlib inline\n",
    "from matplotlib import pyplot as plt"
   ]
  },
  {
   "cell_type": "markdown",
   "metadata": {},
   "source": [
    "## DecisionTreeClassifier"
   ]
  },
  {
   "cell_type": "code",
   "execution_count": 18,
   "metadata": {},
   "outputs": [
    {
     "data": {
      "text/plain": [
       "DecisionTreeClassifier(class_weight=None, criterion='gini', max_depth=5,\n",
       "            max_features=None, max_leaf_nodes=None,\n",
       "            min_impurity_decrease=0.0, min_impurity_split=None,\n",
       "            min_samples_leaf=1, min_samples_split=2,\n",
       "            min_weight_fraction_leaf=0.0, presort=False, random_state=None,\n",
       "            splitter='best')"
      ]
     },
     "execution_count": 18,
     "metadata": {},
     "output_type": "execute_result"
    }
   ],
   "source": [
    "dtc = DecisionTreeClassifier(max_depth=5)\n",
    "dtc.fit(X_train, y_train)"
   ]
  },
  {
   "cell_type": "code",
   "execution_count": 19,
   "metadata": {},
   "outputs": [
    {
     "data": {
      "text/plain": [
       "0.79761740542036363"
      ]
     },
     "execution_count": 19,
     "metadata": {},
     "output_type": "execute_result"
    }
   ],
   "source": [
    "roc_auc_score(y_test, dtc.predict_proba(X_test)[:,1])"
   ]
  },
  {
   "cell_type": "markdown",
   "metadata": {},
   "source": [
    "### Цикл по глубине дерева"
   ]
  },
  {
   "cell_type": "code",
   "execution_count": 20,
   "metadata": {
    "collapsed": true
   },
   "outputs": [],
   "source": [
    "df_dtc_depth = pd.DataFrame(columns = ['DEPTH', 'ROC_AUC']);\n",
    "for dtc_depth in range(1, 30):\n",
    "    dtc = DecisionTreeClassifier(max_depth= dtc_depth )\n",
    "    dtc.fit(X_train, y_train)        \n",
    "    df_dtc_depth = df_dtc_depth.append({'DEPTH' : dtc_depth, 'ROC_AUC' : roc_auc_score(y_test, dtc.predict_proba(X_test)[:,1])} , ignore_index=True)"
   ]
  },
  {
   "cell_type": "code",
   "execution_count": 21,
   "metadata": {},
   "outputs": [
    {
     "data": {
      "text/plain": [
       "<matplotlib.axes._subplots.AxesSubplot at 0x1a640502c50>"
      ]
     },
     "execution_count": 21,
     "metadata": {},
     "output_type": "execute_result"
    },
    {
     "data": {
      "image/png": "[encoded data removed]",
      "text/plain": [
       "<matplotlib.figure.Figure at 0x1a6405025c0>"
      ]
     },
     "metadata": {},
     "output_type": "display_data"
    }
   ],
   "source": [
    "df_dtc_depth.plot(x='DEPTH', y= 'ROC_AUC')"
   ]
  },
  {
   "cell_type": "markdown",
   "metadata": {},
   "source": [
    "## LogisticRegression"
   ]
  },
  {
   "cell_type": "markdown",
   "metadata": {},
   "source": [
    "### Разовый подсчет"
   ]
  },
  {
   "cell_type": "code",
   "execution_count": 22,
   "metadata": {},
   "outputs": [
    {
     "data": {
      "text/plain": [
       "LogisticRegression(C=1.0, class_weight=None, dual=False, fit_intercept=True,\n",
       "          intercept_scaling=1, max_iter=100, multi_class='ovr', n_jobs=1,\n",
       "          penalty='l2', random_state=None, solver='liblinear', tol=0.0001,\n",
       "          verbose=0, warm_start=False)"
      ]
     },
     "execution_count": 22,
     "metadata": {},
     "output_type": "execute_result"
    }
   ],
   "source": [
    "lr = LogisticRegression()\n",
    "lr.fit(X_train, y_train)"
   ]
  },
  {
   "cell_type": "code",
   "execution_count": 23,
   "metadata": {},
   "outputs": [
    {
     "data": {
      "text/plain": [
       "0.60178243048659719"
      ]
     },
     "execution_count": 23,
     "metadata": {},
     "output_type": "execute_result"
    }
   ],
   "source": [
    "roc_auc_score(y_test, lr.predict_proba(X_test)[:,1])"
   ]
  },
  {
   "cell_type": "markdown",
   "metadata": {},
   "source": [
    "### Цикл по С"
   ]
  },
  {
   "cell_type": "code",
   "execution_count": null,
   "metadata": {
    "collapsed": true
   },
   "outputs": [],
   "source": [
    "df_lr_c = pd.DataFrame(columns = ['C', 'L1_ROC_AUC', 'L2_ROC_AUC']);\n",
    "for lr_c in [0.01, 1, 100]:\n",
    "    lr = LogisticRegression(penalty='l1', C=lr_c)\n",
    "    lr.fit(X_train, y_train) \n",
    "    lr_l1_auc = roc_auc_score(y_test, lr.predict_proba(X_test)[:,1]);\n",
    "    lr = LogisticRegression(penalty='l2', C=lr_c)\n",
    "    lr.fit(X_train, y_train) \n",
    "    df_lr_c = df_lr_c.append({'C' : lr_c, 'L1_ROC_AUC' : lr_l1_auc, 'L2_ROC_AUC' : roc_auc_score(y_test, lr.predict_proba(X_test)[:,1])} , ignore_index=True)"
   ]
  },
  {
   "cell_type": "code",
   "execution_count": null,
   "metadata": {
    "collapsed": true
   },
   "outputs": [],
   "source": [
    "df_lr_c.plot(x='C', y= ['L1_ROC_AUC', 'L2_ROC_AUC'])"
   ]
  },
  {
   "cell_type": "markdown",
   "metadata": {},
   "source": [
    "## KNeighborsClassifier"
   ]
  },
  {
   "cell_type": "code",
   "execution_count": 77,
   "metadata": {
    "collapsed": true
   },
   "outputs": [],
   "source": [
    "#Удаляем все столбцы больше сотого и записываем в другой dataframe\n",
    "X_train2 =X_train.drop(list(X_train.columns)[25:], axis=1)\n",
    "X_test2 =X_test.drop(list(X_test.columns)[25:], axis=1)"
   ]
  },
  {
   "cell_type": "markdown",
   "metadata": {},
   "source": [
    "### Разовый расчет"
   ]
  },
  {
   "cell_type": "code",
   "execution_count": 78,
   "metadata": {},
   "outputs": [
    {
     "data": {
      "text/plain": [
       "KNeighborsClassifier(algorithm='auto', leaf_size=30, metric='minkowski',\n",
       "           metric_params=None, n_jobs=1, n_neighbors=1, p=2,\n",
       "           weights='uniform')"
      ]
     },
     "execution_count": 78,
     "metadata": {},
     "output_type": "execute_result"
    }
   ],
   "source": [
    "knn = KNeighborsClassifier(n_neighbors= 1)\n",
    "knn.fit(X_train2, y_train)     "
   ]
  },
  {
   "cell_type": "code",
   "execution_count": 79,
   "metadata": {},
   "outputs": [
    {
     "data": {
      "text/plain": [
       "0.54898967031302981"
      ]
     },
     "execution_count": 79,
     "metadata": {},
     "output_type": "execute_result"
    }
   ],
   "source": [
    "roc_auc_score(y_test, knn.predict_proba(X_test2)[:,1])"
   ]
  },
  {
   "cell_type": "markdown",
   "metadata": {},
   "source": [
    "### Цикл по количеству соседей"
   ]
  },
  {
   "cell_type": "code",
   "execution_count": 80,
   "metadata": {
    "collapsed": true
   },
   "outputs": [],
   "source": [
    "df_knc_neighbors = pd.DataFrame(columns = ['NEIGHBORS', 'ROC_AUC']);\n",
    "for knc_neighbors in range(1, 7):\n",
    "    knn = KNeighborsClassifier(n_neighbors= knc_neighbors)\n",
    "    knn.fit(X_train2, y_train)        \n",
    "    df_knc_neighbors = df_knc_neighbors.append({'NEIGHBORS' : knc_neighbors, 'ROC_AUC' : roc_auc_score(y_test, knn.predict_proba(X_test2)[:,1])} , ignore_index=True)"
   ]
  },
  {
   "cell_type": "code",
   "execution_count": 81,
   "metadata": {},
   "outputs": [
    {
     "data": {
      "text/plain": [
       "<matplotlib.axes._subplots.AxesSubplot at 0x1d2a0e66cc0>"
      ]
     },
     "execution_count": 81,
     "metadata": {},
     "output_type": "execute_result"
    },
    {
     "data": {
      "image/png": "[encoded data removed]",
      "text/plain": [
       "<matplotlib.figure.Figure at 0x1d2a11a1b70>"
      ]
     },
     "metadata": {},
     "output_type": "display_data"
    }
   ],
   "source": [
    "df_knc_neighbors.plot(x='NEIGHBORS', y= 'ROC_AUC')"
   ]
  },
  {
   "cell_type": "markdown",
   "metadata": {},
   "source": [
    "https://www.kaggle.com/cast42/exploring-features"
   ]
  },
  {
   "cell_type": "code",
   "execution_count": 82,
   "metadata": {},
   "outputs": [
    {
     "data": {
      "text/html": [
       "<div>\n",
       "<style>\n",
       "    .dataframe thead tr:only-child th {\n",
       "        text-align: right;\n",
       "    }\n",
       "\n",
       "    .dataframe thead th {\n",
       "        text-align: left;\n",
       "    }\n",
       "\n",
       "    .dataframe tbody tr th {\n",
       "        vertical-align: top;\n",
       "    }\n",
       "</style>\n",
       "<table border=\"1\" class=\"dataframe\">\n",
       "  <thead>\n",
       "    <tr style=\"text-align: right;\">\n",
       "      <th></th>\n",
       "      <th>NEIGHBORS</th>\n",
       "      <th>ROC_AUC</th>\n",
       "    </tr>\n",
       "  </thead>\n",
       "  <tbody>\n",
       "    <tr>\n",
       "      <th>0</th>\n",
       "      <td>1.0</td>\n",
       "      <td>0.548990</td>\n",
       "    </tr>\n",
       "    <tr>\n",
       "      <th>1</th>\n",
       "      <td>2.0</td>\n",
       "      <td>0.554007</td>\n",
       "    </tr>\n",
       "    <tr>\n",
       "      <th>2</th>\n",
       "      <td>3.0</td>\n",
       "      <td>0.569448</td>\n",
       "    </tr>\n",
       "  </tbody>\n",
       "</table>\n",
       "</div>"
      ],
      "text/plain": [
       "   NEIGHBORS   ROC_AUC\n",
       "0        1.0  0.548990\n",
       "1        2.0  0.554007\n",
       "2        3.0  0.569448"
      ]
     },
     "execution_count": 82,
     "metadata": {},
     "output_type": "execute_result"
    }
   ],
   "source": [
    "df_knc_neighbors"
   ]
  },
  {
   "cell_type": "code",
   "execution_count": null,
   "metadata": {
    "collapsed": true
   },
   "outputs": [],
   "source": []
  }
 ],
 "metadata": {
  "kernelspec": {
   "display_name": "Python 3",
   "language": "python",
   "name": "python3"
  },
  "language_info": {
   "codemirror_mode": {
    "name": "ipython",
    "version": 3
   },
   "file_extension": ".py",
   "mimetype": "text/x-python",
   "name": "python",
   "nbconvert_exporter": "python",
   "pygments_lexer": "ipython3",
   "version": "3.6.3"
  }
 },
 "nbformat": 4,
 "nbformat_minor": 2
}
